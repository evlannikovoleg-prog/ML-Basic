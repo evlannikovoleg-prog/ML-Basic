{
 "cells": [
  {
   "cell_type": "markdown",
   "id": "e2450ffa",
   "metadata": {},
   "source": [
    "# Домашнее задание: Функции"
   ]
  },
  {
   "cell_type": "markdown",
   "id": "8d062500",
   "metadata": {},
   "source": [
    "## Задание 1: Конвертер регистров\n",
    "\n",
    "Написать функцию, которая будет переводить snake_case в PascalCase и наоборот. \n",
    "\n",
    "Функция должна сама определять - какой формат ей передали. Можно добавить ключевой аргумент, который будет принудительно возвращать один из форматов.\n",
    "\n",
    "<br>\n",
    "\n",
    "**Примеры:**\n",
    "* `otus_course     -> OtusCourse`\n",
    "* `PythonIsTheBest -> python_is_the_best`\n",
    "\n"
   ]
  },
  {
   "cell_type": "code",
   "execution_count": 1,
   "id": "ec0075f5",
   "metadata": {},
   "outputs": [
    {
     "name": "stdin",
     "output_type": "stream",
     "text": [
      " PythonIsTheBest\n"
     ]
    },
    {
     "name": "stdout",
     "output_type": "stream",
     "text": [
      "python_is_the_best\n"
     ]
    }
   ],
   "source": [
    "from string import ascii_lowercase, ascii_uppercase\n",
    "\n",
    "def convertor(to_convert):\n",
    "    data = to_convert\n",
    "    result = \"\"\n",
    "    prev_check = False\n",
    "\n",
    "    if data[0] in ascii_uppercase:\n",
    "        result += ascii_lowercase[ascii_uppercase.index(data[0])]\n",
    "        for ix, ch in enumerate(data[1:]):\n",
    "            if ch in ascii_uppercase:\n",
    "                result += \"_\" + ascii_lowercase[ascii_uppercase.index(ch)]\n",
    "            else:\n",
    "                result += ch\n",
    "\n",
    "    else:\n",
    "        result += ascii_uppercase[ascii_lowercase.index(data[0])]\n",
    "        for ix, ch in enumerate(data[1:]):\n",
    "            if ch == \"_\":\n",
    "                prev_check = True\n",
    "                #result += \"_\" + ascii_lowercase[ascii_uppercase.index(ch)]\n",
    "            else:\n",
    "                if prev_check == False:\n",
    "                    result += ch\n",
    "                else:\n",
    "                    result += ascii_uppercase[ascii_lowercase.index(ch)]\n",
    "                    prev_check = False\n",
    "    print(result)\n",
    "\n",
    "convertor(input())"
   ]
  },
  {
   "cell_type": "markdown",
   "id": "b8253fb9",
   "metadata": {},
   "source": [
    "## Задание 2: Проверка валидности даты\n",
    "\n",
    "Написать функцию проверяющую валидность введенной даты.\n",
    "\n",
    "<br>\n",
    "\n",
    "**Примеры:**\n",
    "* `29.02.2000 -> True`\n",
    "* `29.02.2001 -> False`\n",
    "* `31.04.1962 -> False`\n",
    "\n"
   ]
  },
  {
   "cell_type": "code",
   "execution_count": 9,
   "id": "e7f4e9c8",
   "metadata": {},
   "outputs": [
    {
     "name": "stdin",
     "output_type": "stream",
     "text": [
      " 29.02.2000\n"
     ]
    },
    {
     "data": {
      "text/plain": [
       "True"
      ]
     },
     "execution_count": 9,
     "metadata": {},
     "output_type": "execute_result"
    }
   ],
   "source": [
    "from datetime import datetime\n",
    "\n",
    "def is_valid_date_datetime(date_str):\n",
    "    try:\n",
    "        datetime.strptime(date_str, '%d.%m.%Y')\n",
    "        return True\n",
    "    except ValueError:\n",
    "        return False\n",
    "\n",
    "is_valid_date_datetime(input())"
   ]
  },
  {
   "cell_type": "markdown",
   "id": "2d77053e",
   "metadata": {},
   "source": [
    "## Задание 3: Проверка на простое число\n",
    "\n",
    "Функция проверки на простое число. Простые числа – это такие числа, которые делятся на себя и на единицу.\n",
    "\n",
    "<br>\n",
    "\n",
    "**Примеры:**\n",
    "* `17 -> True`\n",
    "* `20 -> False`\n",
    "* `23 -> True`"
   ]
  },
  {
   "cell_type": "code",
   "execution_count": 11,
   "id": "c20728f6",
   "metadata": {},
   "outputs": [
    {
     "name": "stdin",
     "output_type": "stream",
     "text": [
      " 17\n"
     ]
    },
    {
     "data": {
      "text/plain": [
       "True"
      ]
     },
     "execution_count": 11,
     "metadata": {},
     "output_type": "execute_result"
    }
   ],
   "source": [
    "def is_prime(n):\n",
    "\n",
    "    n = int(n)\n",
    "    if n <= 1:\n",
    "        return False\n",
    "    if n == 2:\n",
    "        return True\n",
    "    if n % 2 == 0:  # все четные числа кроме 2 - составные\n",
    "        return False\n",
    "\n",
    "    # Проверяем делители от 3 до квадратного корня из n\n",
    "    # (шаг 2, так как четные уже исключили)\n",
    "    for i in range(3, int(n ** 0.5) + 1, 2):\n",
    "        if n % i == 0:\n",
    "            return False\n",
    "\n",
    "    return True\n",
    "\n",
    "\n",
    "is_prime(input())"
   ]
  },
  {
   "cell_type": "markdown",
   "id": "29703efe",
   "metadata": {},
   "source": [
    "## Задание 4: Учет пользователей\n",
    "\n",
    "Пользователь в бесконечном цикле вводит данные пользователей: имя, затем фамилию, возраст и ID. Ввод продолжается до тех пор, пока не будет введено пустое поле. \n",
    "\n",
    "Пользователи заносятся в словарь, где ключ это ID пользователя, а остальные данные записываются в виде кортежа. \n",
    "\n",
    "**Программа должна проверять:**\n",
    "* имя и фамилия состоят только из символов и начинаются с большой буквы - если не с большой, то заменяет букву на большую;\n",
    "* возраст должен быть числом от 18 до 60;\n",
    "* ID - целое число, дополненное до 8 знаков незначащими нулями, ID должен быть уникальным.\n",
    "\n",
    "**Дополнительно:** написать функцию, которая будет выводить полученный словарь в виде таблицы."
   ]
  },
  {
   "cell_type": "code",
   "execution_count": 1,
   "id": "54d1f971",
   "metadata": {},
   "outputs": [
    {
     "name": "stdin",
     "output_type": "stream",
     "text": [
      "Введите данные в через пробел: Имя Фамилия возраст ID (или нажмите Enter для выхода)\n",
      " oev lannikov 35 1\n",
      "Введите данные в через пробел: Имя Фамилия возраст ID (или нажмите Enter для выхода)\n",
      " ksenia nikolaeva 33 2\n",
      "Введите данные в через пробел: Имя Фамилия возраст ID (или нажмите Enter для выхода)\n",
      " JohN Snow 22 55\n",
      "Введите данные в через пробел: Имя Фамилия возраст ID (или нажмите Enter для выхода)\n",
      " \n"
     ]
    },
    {
     "name": "stdout",
     "output_type": "stream",
     "text": [
      "------------------------------------------------------------\n",
      "ID           Имя             Фамилия         Возраст\n",
      "------------------------------------------------------------\n",
      "00000001     Oev             Lannikov        35   \n",
      "00000002     Ksenia          Nikolaeva       33   \n",
      "00000055     JohN            Snow            22   \n",
      "------------------------------------------------------------\n"
     ]
    }
   ],
   "source": [
    "from string import ascii_lowercase, ascii_uppercase\n",
    "\n",
    "vvod_prodolzhaetsa = True\n",
    "\n",
    "table = {}\n",
    "used_ids = []\n",
    "\n",
    "reason = \"\"\n",
    "\n",
    "def parameters_printer(func, *args):\n",
    "    print(f\"Запуск функции {func} с параметрами:\")\n",
    "    for i, arg in enumerate(args):\n",
    "        print(f\"Параметр {i}: {arg}\")\n",
    "\n",
    "\n",
    "def first_letter_changer(str):\n",
    "    result = \"\"\n",
    "    if str[0] in ascii_lowercase:\n",
    "        result = ascii_uppercase[ascii_lowercase.index(str[0])] + str[1:]\n",
    "        # print(result)\n",
    "    else:\n",
    "        result = str\n",
    "    return result\n",
    "\n",
    "\n",
    "def age_restricter(table, id, human, ok, reason):\n",
    "    allowed_ages = range(18, 61)  # from 5 (inclusive) to 15 (exclusive)\n",
    "    num3 = 7\n",
    "    if int(human[2]) in allowed_ages:\n",
    "        reason = reason + f\"{human[2]} входит в допустимые границы возраста: {allowed_ages}.\"\n",
    "        ok = True\n",
    "    else:\n",
    "        reason = reason + f\"{human[2]} НЕ входит в допустимые границы возраста: {allowed_ages}. Запсь будет проигнорирована\"\n",
    "        ok = False\n",
    "    return ok\n",
    "\n",
    "\n",
    "def formatted_output(table):\n",
    "    sorted_items = sorted(table.items())\n",
    "    sorted_dict_by_key = dict(sorted_items)\n",
    "    print(\"-\" * 60)\n",
    "    print(f\"{'ID':<12} {'Имя':<15} {'Фамилия':<15} {'Возраст':<5}\")\n",
    "    print(\"-\" * 60)\n",
    "\n",
    "    for key, value in sorted_dict_by_key.items():\n",
    "        print(f\"{key:<12} {value[0]:<15} {value[1]:<15} {value[2]:<5}\")\n",
    "\n",
    "    print(\"-\" * 60)\n",
    "\n",
    "\n",
    "def vvod_dannyh():\n",
    "    global reason\n",
    "    ok = False\n",
    "    while True:\n",
    "        newstr = input(\"Введите данные в через пробел: Имя Фамилия возраст ID (или нажмите Enter для выхода)\\n\")\n",
    "        if newstr == \"\":\n",
    "            break\n",
    "        else:\n",
    "            parsed_str = str.rsplit(newstr, sep=\" \")\n",
    "\n",
    "            name = first_letter_changer(parsed_str[0])\n",
    "            last_name = first_letter_changer(parsed_str[1])\n",
    "            age = int(parsed_str[2])\n",
    "            id = int(parsed_str[3])\n",
    "\n",
    "            formatted_id = f\"{id:08d}\"\n",
    "            human = (name, last_name, age)\n",
    "\n",
    "            age_restricter(table, formatted_id, human, ok, reason)\n",
    "\n",
    "            if formatted_id in used_ids:\n",
    "                reason = reason + f\"ID {formatted_id} занят, запись НЕ будет добавлена.\"\n",
    "                ok = False\n",
    "            else:\n",
    "                reason = reason + f\"ID {formatted_id} занят, запись будет добавлена.\"\n",
    "                used_ids.append(formatted_id)\n",
    "                ok = True\n",
    "\n",
    "            if ok:\n",
    "                reason = reason + f\"Запись: {formatted_id}: {human} + будет добавлена в табличку.\"\n",
    "                table[formatted_id] = human\n",
    "            else:\n",
    "                reason = reason + f\"Запись: {formatted_id}: {human} НЕ будет добавлена в табличку.\"\n",
    "\n",
    "\n",
    "vvod_dannyh()\n",
    "formatted_output(table)\n"
   ]
  },
  {
   "cell_type": "code",
   "execution_count": null,
   "id": "ee21e274-fcc5-4c51-9b48-c63f3797dc62",
   "metadata": {},
   "outputs": [],
   "source": []
  }
 ],
 "metadata": {
  "kernelspec": {
   "display_name": "Python [conda env:base] *",
   "language": "python",
   "name": "conda-base-py"
  },
  "language_info": {
   "codemirror_mode": {
    "name": "ipython",
    "version": 3
   },
   "file_extension": ".py",
   "mimetype": "text/x-python",
   "name": "python",
   "nbconvert_exporter": "python",
   "pygments_lexer": "ipython3",
   "version": "3.13.5"
  }
 },
 "nbformat": 4,
 "nbformat_minor": 5
}
