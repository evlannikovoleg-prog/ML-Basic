{
 "cells": [
  {
   "cell_type": "markdown",
   "id": "8955a739",
   "metadata": {},
   "source": [
    "# Домашнее задание: Базовые типы данных\n",
    "\n"
   ]
  },
  {
   "cell_type": "markdown",
   "id": "d4e67b86",
   "metadata": {},
   "source": [
    "## Задание 1: Зеркальное отражение цифр\n",
    "\n",
    "Пользователь вводит пятизначное число. Программа должна зеркально отразить три центральные цифры. Первая и последняя остаются на местах.\n",
    "\n",
    "<br>\n",
    "\n",
    "**Примеры:**\n",
    "* `23456 -> 25436`\n",
    "* `30789 -> 38709`"
   ]
  },
  {
   "cell_type": "code",
   "execution_count": 3,
   "id": "5a4d665d",
   "metadata": {},
   "outputs": [
    {
     "name": "stdin",
     "output_type": "stream",
     "text": [
      " 34567\n"
     ]
    },
    {
     "name": "stdout",
     "output_type": "stream",
     "text": [
      "36547\n"
     ]
    }
   ],
   "source": [
    "a = input()\n",
    "print(a[0] + \"\" + a[3] + \"\" + a[2] + \"\" + a[1] + \"\" + a[4])"
   ]
  },
  {
   "cell_type": "markdown",
   "id": "00b9578b",
   "metadata": {},
   "source": [
    "## Задание 2: Подсчет выходных до отпуска\n",
    "\n",
    "Пользователь вводит сколько дней осталось до ближайшего отпуска. Программа должна вывести количество выходных дней до отпуска, если учесть, что выходные это суббота и воскресенье, сегодня понедельник и праздники мы не учитываем.  \n",
    "\n",
    "<br>\n",
    "\n",
    "**Примеры:**\n",
    "* `4  -> 0`\n",
    "* `6  -> 1`\n",
    "* `14 -> 4`"
   ]
  },
  {
   "cell_type": "code",
   "execution_count": 17,
   "id": "07154103",
   "metadata": {},
   "outputs": [
    {
     "name": "stdin",
     "output_type": "stream",
     "text": [
      "Введите количество дней до отпуска:  14\n"
     ]
    },
    {
     "name": "stdout",
     "output_type": "stream",
     "text": [
      "Количество выходных дней до отпуска: 4\n"
     ]
    }
   ],
   "source": [
    "days_left = int(input(\"Введите количество дней до отпуска: \"))\n",
    "full_weeks = days_left // 7\n",
    "remaining_days = days_left % 7\n",
    "weekends = full_weeks * 2\n",
    "\n",
    "if remaining_days > 5:\n",
    "    weekends += remaining_days - 5\n",
    "\n",
    "print(\"Количество выходных дней до отпуска:\", weekends)"
   ]
  },
  {
   "cell_type": "markdown",
   "id": "cdde282c",
   "metadata": {},
   "source": [
    "## Задание 3: Плитка шоколада\n",
    "\n",
    "Пользователь вводит длину и ширину плитки шоколада, а также размер куска, который хочет отломить. Программа должна вычислить - можно ли совершить подобный разлом или нет, если учесть, что ломать можно только по прямой.\n",
    "\n",
    "<br>\n",
    "\n",
    "**Примеры:**\n",
    "* `3, 4, 6  -> True`\n",
    "* `5, 7, 8  -> False`\n",
    "* `4, 5, 12 -> True`"
   ]
  },
  {
   "cell_type": "code",
   "execution_count": 19,
   "id": "70f3324c",
   "metadata": {},
   "outputs": [
    {
     "name": "stdin",
     "output_type": "stream",
     "text": [
      "Введите длину шоколадки (m):  5\n",
      "Введите ширину шоколадки (n):  7\n",
      "Введите размер куска (k):  8\n"
     ]
    },
    {
     "name": "stdout",
     "output_type": "stream",
     "text": [
      "False\n"
     ]
    }
   ],
   "source": [
    "m = int(input(\"Введите длину шоколадки (m): \"))\n",
    "n = int(input(\"Введите ширину шоколадки (n): \"))\n",
    "k = int(input(\"Введите размер куска (k): \"))\n",
    "\n",
    "if (k <= m * n) and (k % m == 0 or k % n == 0):\n",
    "    print(\"True\")\n",
    "else:\n",
    "    print(\"False\")"
   ]
  },
  {
   "cell_type": "markdown",
   "id": "6470efc1",
   "metadata": {},
   "source": [
    "## Задание 4: Римские числа\n",
    "\n",
    "Пользователь вводит целое положительное число, программа должна вернуть строку в виде римского числа.\n",
    "\n",
    "<br>\n",
    "\n",
    "**Примеры:**\n",
    "* `3   -> III`\n",
    "* `15  -> XV`\n",
    "* `234 -> CCXXXIV`"
   ]
  },
  {
   "cell_type": "code",
   "execution_count": 20,
   "id": "8686127c",
   "metadata": {},
   "outputs": [
    {
     "name": "stdin",
     "output_type": "stream",
     "text": [
      "Введите целое положительное число:  234\n"
     ]
    },
    {
     "name": "stdout",
     "output_type": "stream",
     "text": [
      "CCXXXIV\n"
     ]
    }
   ],
   "source": [
    "def int_to_roman(num):\n",
    "    val = [\n",
    "        1000, 900, 500, 400,\n",
    "        100, 90, 50, 40,\n",
    "        10, 9, 5, 4,\n",
    "        1\n",
    "    ]\n",
    "    syb = [\n",
    "        \"M\", \"CM\", \"D\", \"CD\",\n",
    "        \"C\", \"XC\", \"L\", \"XL\",\n",
    "        \"X\", \"IX\", \"V\", \"IV\",\n",
    "        \"I\"\n",
    "    ]\n",
    "    roman_num = ''\n",
    "    i = 0\n",
    "    while num > 0:\n",
    "        for _ in range(num // val[i]):\n",
    "            roman_num += syb[i]\n",
    "            num -= val[i]\n",
    "        i += 1\n",
    "    return roman_num\n",
    "\n",
    "# Пример использования\n",
    "number = int(input(\"Введите целое положительное число: \"))\n",
    "if number < 1:\n",
    "    print(\"Число должно быть положительным.\")\n",
    "else:\n",
    "    print(int_to_roman(number))"
   ]
  },
  {
   "cell_type": "markdown",
   "id": "ca6a4c0a",
   "metadata": {},
   "source": [
    "## Задание 5: Проверка на вещественное число\n",
    "\n",
    "Пользователь вводит данные, проверить - являются ли они положительным вещественным числом. Не использовать встроенные функции для проверки, только методы данных и конструкцию IF. (Дополнительное задание, по желанию - проверка на отрицательные вещественные числа)\n",
    "\n",
    "<br>\n",
    "\n",
    "**Примеры:**\n",
    "* `5.6  -> True`\n",
    "* `.78  -> True`\n",
    "* `.67. -> False`\n",
    "* `5    -> True`"
   ]
  },
  {
   "cell_type": "code",
   "execution_count": 22,
   "id": "74e39179",
   "metadata": {},
   "outputs": [
    {
     "name": "stdin",
     "output_type": "stream",
     "text": [
      "Введите число:  .78\n"
     ]
    },
    {
     "name": "stdout",
     "output_type": "stream",
     "text": [
      "True\n"
     ]
    }
   ],
   "source": [
    "def is_positive_float(s):\n",
    "    if not s:  # Пустая строка\n",
    "        return False\n",
    "    \n",
    "    has_decimal = False\n",
    "    has_digits = False\n",
    "    \n",
    "    for i, char in enumerate(s):\n",
    "        if char == '.':\n",
    "            if has_decimal:  # Больше одной точки\n",
    "                return False\n",
    "            has_decimal = True\n",
    "        elif char == '-':\n",
    "            if i != 0:  # Минус не в начале\n",
    "                return False\n",
    "        elif char == '+':\n",
    "            if i != 0:  # Плюс не в начале\n",
    "                return False\n",
    "        elif not ('0' <= char <= '9'):\n",
    "            return False  # Не цифра и не точка/знак\n",
    "        else:\n",
    "            has_digits = True  # Хотя бы одна цифра\n",
    "    \n",
    "    if not has_digits:  # Нет ни одной цифры\n",
    "        return False\n",
    "    \n",
    "    # Проверка на положительность (по желанию)\n",
    "    if s[0] == '-':\n",
    "        return False  # Отрицательное число\n",
    "    \n",
    "    return True\n",
    "\n",
    "# Ввод данных\n",
    "user_input = input(\"Введите число: \")\n",
    "\n",
    "# Проверка\n",
    "if is_positive_float(user_input):\n",
    "    print(\"True\")\n",
    "else:\n",
    "    print(\"False\")"
   ]
  },
  {
   "cell_type": "code",
   "execution_count": null,
   "id": "f84be4fd-120c-4731-91cb-8d904da9e17c",
   "metadata": {},
   "outputs": [],
   "source": []
  }
 ],
 "metadata": {
  "kernelspec": {
   "display_name": "Python [conda env:base] *",
   "language": "python",
   "name": "conda-base-py"
  },
  "language_info": {
   "codemirror_mode": {
    "name": "ipython",
    "version": 3
   },
   "file_extension": ".py",
   "mimetype": "text/x-python",
   "name": "python",
   "nbconvert_exporter": "python",
   "pygments_lexer": "ipython3",
   "version": "3.13.5"
  }
 },
 "nbformat": 4,
 "nbformat_minor": 5
}
