{
 "cells": [
  {
   "cell_type": "markdown",
   "id": "a2c501e6",
   "metadata": {},
   "source": [
    "# Домашнее задание: Управляющие конструкции"
   ]
  },
  {
   "cell_type": "markdown",
   "id": "3e4cac4a",
   "metadata": {},
   "source": [
    "## Задание 1: Получение однозначного числа\n",
    "\n",
    "Пользователь вводит целое число, программа складывает все цифры числа, с полученным числом — то же самое, и так до тех пор, пока не получится однозначное число.\n",
    "\n",
    "<br>\n",
    "\n",
    "**Примеры:**\n",
    "* `545   -> 5`\n",
    "* `12345 -> 6`"
   ]
  },
  {
   "cell_type": "code",
   "execution_count": 1,
   "id": "344e919f",
   "metadata": {},
   "outputs": [
    {
     "name": "stdin",
     "output_type": "stream",
     "text": [
      " 12345\n"
     ]
    },
    {
     "name": "stdout",
     "output_type": "stream",
     "text": [
      "6\n"
     ]
    }
   ],
   "source": [
    "n = int(input())\n",
    "while n >= 10:\n",
    "    n = sum(int(digit) for digit in str(n))\n",
    "print(n)"
   ]
  },
  {
   "cell_type": "markdown",
   "id": "45527a4a",
   "metadata": {},
   "source": [
    "## Задание 2: Кинотеатр\n",
    "\n",
    "Дан список списков, каждый вложенный список состоит из 1 и 0, количество вложенных списков — количество рядов. Пользователь вводит, сколько билетов ему требуется. Программа должна найти ряд, где можно приобрести нужное количество билетов (места должны быть рядом). Если таких рядов несколько, то ближайший к экрану (ближайшим считается нулевой ряд). Если таких мест нет, то вывести False.\n",
    "\n",
    "<br>\n",
    "\n",
    "**Примеры:**\n",
    "* `[[0,1,1,0], [1,0,0,0], [0,1,0,0]], 2 -> 1`\n",
    "* `[[0,1,1,0], [1,0,1,0], [1,1,0,1]], 2 -> False`"
   ]
  },
  {
   "cell_type": "code",
   "execution_count": 1,
   "id": "3a29082d",
   "metadata": {},
   "outputs": [
    {
     "name": "stdout",
     "output_type": "stream",
     "text": [
      "Введите сколько надо мест: 2\n"
     ]
    },
    {
     "name": "stdin",
     "output_type": "stream",
     "text": [
      " 2\n"
     ]
    },
    {
     "name": "stdout",
     "output_type": "stream",
     "text": [
      "1\n",
      "1\n",
      "2\n",
      "2\n"
     ]
    }
   ],
   "source": [
    "import ast\n",
    "print(\"Введите сколько надо мест: 2\")\n",
    "need = int(input())\n",
    "found = 0\n",
    "notfound = True\n",
    "cinema = [\n",
    "    \"[[0, 1, 1, 0], [1, 0, 0, 0], [0, 1, 0, 0]]\", ## 2 -> 1\n",
    "    \"[[0, 1, 1, 0], [1, 0, 1, 0], [1, 1, 0, 1]]\" ### 2 -> False\n",
    "]\n",
    "\n",
    "for r, row in enumerate(cinema):\n",
    "    if notfound:\n",
    "        #print(f\"Ряд {r}: {row}\")\n",
    "        columns = ast.literal_eval(row)\n",
    "        for c, column in enumerate(columns):\n",
    "            count = 0\n",
    "            for seat in column:\n",
    "                if seat == 0:\n",
    "                    count += 1\n",
    "                    if count >= 2:\n",
    "                        found=c\n",
    "                        print(found)\n",
    "                        notfound = False\n",
    "                        exit(0)\n",
    "                else:\n",
    "                    count = 0\n",
    "    else:\n",
    "        print(found)"
   ]
  },
  {
   "cell_type": "markdown",
   "id": "7b7f098c",
   "metadata": {},
   "source": [
    "## Задание 3: Алгоритм RLE\n",
    "\n",
    "Необходимо написать упрощенную версию алгоритма RLE. \n",
    "Алгоритм RLE объединяет подряд идущие символы в коэффициент и символ.\n",
    "\n",
    "<br>\n",
    "\n",
    "**Примеры:**\n",
    "* `asssdddsssddd -> 1a3s3d3s3d`\n",
    "* `aaabbbbccccc  -> 3a4b5c`\n",
    "* `abcba         -> 1a1b1c1b1a`"
   ]
  },
  {
   "cell_type": "code",
   "execution_count": 2,
   "id": "e0d30ec2",
   "metadata": {},
   "outputs": [
    {
     "name": "stdin",
     "output_type": "stream",
     "text": [
      " asssdddsssddd\n"
     ]
    },
    {
     "name": "stdout",
     "output_type": "stream",
     "text": [
      "1a3s3d3s3d\n"
     ]
    }
   ],
   "source": [
    "multi = 1\n",
    "data = input()\n",
    "current_char=data[0]\n",
    "reslut = \"\"\n",
    "for char in data[1:]:\n",
    "    #print(char)\n",
    "    if current_char == char:\n",
    "        multi += 1\n",
    "    else:\n",
    "        reslut += str(multi) + current_char\n",
    "        current_char = char\n",
    "        multi = 1\n",
    "reslut += str(multi) + current_char\n",
    "print(reslut)"
   ]
  },
  {
   "cell_type": "markdown",
   "id": "f24d5e58",
   "metadata": {},
   "source": [
    "## Задание 4: Шифр Цезаря\n",
    "\n",
    "Реализуйте программу для шифрования текста с помощью шифра Цезаря.  \n",
    "Шифр Цезаря — это метод шифрования, при котором каждая буква в тексте заменяется буквой, стоящей на фиксированное число позиций дальше в алфавите.\n",
    "\n",
    "### Требования\n",
    "1. Программа должна принимать на вход:\n",
    "   - Строку текста для шифрования\n",
    "   - Ключ шифра (число от 0 до 25)\n",
    "\n",
    "2. Правила шифрования:\n",
    "   - Шифруются только латинские буквы (a-z, A-Z)\n",
    "   - Сохраняется регистр букв (заглавные остаются заглавными)\n",
    "   - Пробелы, цифры и знаки препинания остаются без изменений\n",
    "   - Сдвиг циклический (после 'z' идет 'a', после 'Z' идет 'A')\n",
    "\n",
    "### Примеры\n",
    "\n",
    "* `\"Hello World\", 3      -> \"Khoor Zruog\"`\n",
    "* `\"Python is great!\", 5 -> \"Udymts nx lwjfy!\"`\n",
    "* `\"XYZ abc\", 3          -> \"ABC def\"`\n",
    "* `\"Test 123\", 1         -> \"Uftu 123\"`\n",
    "\n",
    "### Алгоритм\n",
    "* Для каждого символа в строке:\n",
    "   - Если это латинская буква, найти её позицию в алфавите\n",
    "   - Добавить к позиции значение ключа\n",
    "   - Если результат больше 25, использовать остаток от деления на 26\n",
    "   - Преобразовать обратно в букву, сохранив регистр\n",
    "   - Если это не буква, оставить символ без изменений\n"
   ]
  },
  {
   "cell_type": "code",
   "execution_count": 3,
   "id": "6a075d20",
   "metadata": {},
   "outputs": [
    {
     "name": "stdin",
     "output_type": "stream",
     "text": [
      "STRING:  Hello World\n",
      "KEY:  3\n"
     ]
    },
    {
     "name": "stdout",
     "output_type": "stream",
     "text": [
      "Khoor Zruog\n"
     ]
    }
   ],
   "source": [
    "from string import ascii_lowercase, ascii_uppercase\n",
    "\n",
    "data = input(\"STRING: \")\n",
    "key = int(input(\"KEY: \"))\n",
    "alphabet = ascii_lowercase+ascii_uppercase\n",
    "result = \"\"\n",
    "\n",
    "for ch in data:\n",
    "    if ch in alphabet:\n",
    "        result += alphabet[(alphabet.index(ch) + key % len(alphabet))]\n",
    "    else:\n",
    "        result += ch\n",
    "print(result)"
   ]
  },
  {
   "cell_type": "markdown",
   "id": "c88bf52c",
   "metadata": {},
   "source": [
    "## Задание 5: Табель успеваемости\n",
    "\n",
    "Пользователь в бесконечном цикле (пока не будет введена пустая строка) вводит строки вида: 'название предмета' 'фамилия ученика' 'оценка'. После окончания ввода программа выводит в консоль название предмета, далее список учеников и все их оценки в виде таблицы.\n",
    "\n",
    "<br>\n",
    "\n",
    "**Примеры:**\n",
    "\n",
    "<br>\n",
    "\n",
    "*Ввод:*\n",
    "```python\n",
    "Математика Иванов  5\n",
    "Математика Иванов  4\n",
    "Литература Иванов  3\n",
    "Математика Петров  5\n",
    "Литература Сидоров 3\n",
    "Литература Петров  5\n",
    "Литература Иванов  4\n",
    "Математика Сидоров 3\n",
    "Математика Петров  5\n",
    "```\n",
    "\n",
    "<br>\n",
    "\n",
    "*Результат:*\n",
    "```python\n",
    "Математика # вводим название предмета\n",
    "\n",
    "# выводим список учеников и их оценки\n",
    "Иванов  5 4\n",
    "Петров  5 5\n",
    "Сидоров 3\n",
    "```\n",
    "\n",
    "```python\n",
    "Литература # вводим название предмета\n",
    "\n",
    "# выводим список учеников и их оценки\n",
    "Иванов  3 4\n",
    "Сидоров 3\n",
    "Петров  5\n",
    "```"
   ]
  },
  {
   "cell_type": "code",
   "execution_count": 1,
   "id": "196f6ff4",
   "metadata": {},
   "outputs": [
    {
     "name": "stdin",
     "output_type": "stream",
     "text": [
      "Введите данные в формате: Предмет Фамилия Оценка (ИЛИ ЕНТЕР ДЛЯ ВЫХОДА)\n",
      " Математика Иванов 5\n",
      "Введите данные в формате: Предмет Фамилия Оценка (ИЛИ ЕНТЕР ДЛЯ ВЫХОДА)\n",
      " Математика Иванов 4\n",
      "Введите данные в формате: Предмет Фамилия Оценка (ИЛИ ЕНТЕР ДЛЯ ВЫХОДА)\n",
      " Литература Иванов 3\n",
      "Введите данные в формате: Предмет Фамилия Оценка (ИЛИ ЕНТЕР ДЛЯ ВЫХОДА)\n",
      " Математика Петров 5\n",
      "Введите данные в формате: Предмет Фамилия Оценка (ИЛИ ЕНТЕР ДЛЯ ВЫХОДА)\n",
      " Литература Сидоров 3\n",
      "Введите данные в формате: Предмет Фамилия Оценка (ИЛИ ЕНТЕР ДЛЯ ВЫХОДА)\n",
      " Литература Петров 5\n",
      "Введите данные в формате: Предмет Фамилия Оценка (ИЛИ ЕНТЕР ДЛЯ ВЫХОДА)\n",
      " Литература Иванов 4\n",
      "Введите данные в формате: Предмет Фамилия Оценка (ИЛИ ЕНТЕР ДЛЯ ВЫХОДА)\n",
      " Математика Сидоров 3\n",
      "Введите данные в формате: Предмет Фамилия Оценка (ИЛИ ЕНТЕР ДЛЯ ВЫХОДА)\n",
      " Математика Петров 5\n",
      "Введите данные в формате: Предмет Фамилия Оценка (ИЛИ ЕНТЕР ДЛЯ ВЫХОДА)\n",
      " \n"
     ]
    },
    {
     "name": "stdout",
     "output_type": "stream",
     "text": [
      "Математика\n",
      "\n",
      "Иванов 5 4\n",
      "Петров 5 5\n",
      "Сидоров 3\n",
      "\n",
      "Литература\n",
      "\n",
      "Иванов 3 4\n",
      "Сидоров 3\n",
      "Петров 5\n",
      "\n"
     ]
    }
   ],
   "source": [
    "from re import split\n",
    "\n",
    "vvod_prodolzhaetsa = True\n",
    "\n",
    "#table = [['Математика', 'Иванов', '1'],\n",
    "        # ['Математика', 'Иванов', '2'],\n",
    "        # ['Литература', 'Иванов', '3'],\n",
    "        # ['Математика', 'Петров', '4'],\n",
    "        # ['Литература', 'Сидоров', '5'],\n",
    "        # ['Литература', 'Петров', '6'],\n",
    "        # ['Литература', 'Иванов', '7'],\n",
    "        # ['Математика', 'Сидоров', '8'],\n",
    "        # ['Математика', 'Петров', '9']]\n",
    "\n",
    "table = {}\n",
    "\n",
    "def vvod_dannyh():\n",
    "    while True:\n",
    "        newstr = input(\"Введите данные в формате: Предмет Фамилия Оценка (ИЛИ ЕНТЕР ДЛЯ ВЫХОДА)\\n\")\n",
    "        if newstr == \"\":\n",
    "            break\n",
    "        else:\n",
    "            parsed_str = str.split(newstr, sep=\" \")\n",
    "\n",
    "            subject = parsed_str[0]\n",
    "            student = parsed_str[1]\n",
    "            grade = parsed_str[2]\n",
    "\n",
    "            if subject not in table:\n",
    "                table[subject] = {}\n",
    "\n",
    "            \n",
    "            if student not in table[subject]:\n",
    "                table[subject][student] = []\n",
    "\n",
    "            table[subject][student].append(grade)\n",
    "\n",
    "    # print(table)\n",
    "\n",
    "    for subject, students in table.items():\n",
    "        print(subject + \"\\n\")\n",
    "\n",
    "        for student, grades in students.items():\n",
    "            print(f\"{student} {' '.join(grades)}\")\n",
    "\n",
    "        print()\n",
    "        exit(0)\n",
    "\n",
    "vvod_dannyh()\n"
   ]
  },
  {
   "cell_type": "code",
   "execution_count": null,
   "id": "60b37026-d571-42bd-a70d-2829871f43eb",
   "metadata": {},
   "outputs": [],
   "source": []
  },
  {
   "cell_type": "code",
   "execution_count": null,
   "id": "86f915ed-3433-4460-a41e-63621f11fe15",
   "metadata": {},
   "outputs": [],
   "source": []
  },
  {
   "cell_type": "code",
   "execution_count": null,
   "id": "33aaede3-dfd9-45d3-aaf7-4972dc85276e",
   "metadata": {},
   "outputs": [],
   "source": []
  }
 ],
 "metadata": {
  "kernelspec": {
   "display_name": "Python [conda env:base] *",
   "language": "python",
   "name": "conda-base-py"
  },
  "language_info": {
   "codemirror_mode": {
    "name": "ipython",
    "version": 3
   },
   "file_extension": ".py",
   "mimetype": "text/x-python",
   "name": "python",
   "nbconvert_exporter": "python",
   "pygments_lexer": "ipython3",
   "version": "3.13.5"
  }
 },
 "nbformat": 4,
 "nbformat_minor": 5
}
